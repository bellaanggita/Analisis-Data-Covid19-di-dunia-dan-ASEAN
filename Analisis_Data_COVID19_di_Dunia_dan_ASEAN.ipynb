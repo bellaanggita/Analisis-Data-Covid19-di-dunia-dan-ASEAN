{
  "nbformat": 4,
  "nbformat_minor": 0,
  "metadata": {
    "colab": {
      "name": "Analisis Data COVID19 di Dunia dan ASEAN.ipynb",
      "provenance": [],
      "collapsed_sections": []
    },
    "kernelspec": {
      "name": "python3",
      "display_name": "Python 3"
    }
  },
  "cells": [
    {
      "cell_type": "code",
      "metadata": {
        "id": "F1rmbjoloryH"
      },
      "source": [
        "import json\n",
        "import numpy as py\n",
        "import pandas as pd\n",
        "import requests"
      ],
      "execution_count": null,
      "outputs": []
    },
    {
      "cell_type": "markdown",
      "metadata": {
        "id": "uDQuSubAoy-2"
      },
      "source": [
        "Membuat Fungsi get API"
      ]
    },
    {
      "cell_type": "code",
      "metadata": {
        "id": "jwuT-J_CrLgN"
      },
      "source": [
        "def get_json(api_url):\n",
        "\tresponse = requests.get(api_url)\n",
        "\tif response.status_code == 200:\n",
        "\t\treturn json.loads(response.content.decode('utf-8'))\n",
        "\telse:\n",
        "\t\treturn none"
      ],
      "execution_count": null,
      "outputs": []
    },
    {
      "cell_type": "markdown",
      "metadata": {
        "id": "4pdOol4Y6kM-"
      },
      "source": [
        "Memanggil API Covid19"
      ]
    },
    {
      "cell_type": "code",
      "metadata": {
        "id": "iQxo8JtT7CeI",
        "colab": {
          "base_uri": "https://localhost:8080/"
        },
        "outputId": "4fe1e6c4-23fd-4ee9-f806-8c0043056192"
      },
      "source": [
        "record_date = '2020-08-17'\n",
        "covid_url = 'https://covid19-api.org/api/status?date='+record_date\n",
        "df_covid_worldwide = pd.io.json.json_normalize(get_json(covid_url))\n",
        "\n",
        "print(df_covid_worldwide.head())"
      ],
      "execution_count": null,
      "outputs": [
        {
          "output_type": "stream",
          "text": [
            "  country          last_update    cases  deaths  recovered\n",
            "0      US  2020-08-16T23:27:50  5401167  170019    1833067\n",
            "1      BR  2020-08-16T23:27:50  3340197  107852    2655017\n",
            "2      IN  2020-08-16T23:27:50  2589682   49980    1862258\n",
            "3      RU  2020-08-16T23:27:50   920719   15653     731444\n",
            "4      ZA  2020-08-16T23:27:50   587345   11839     472377\n"
          ],
          "name": "stdout"
        },
        {
          "output_type": "stream",
          "text": [
            "/usr/local/lib/python3.6/dist-packages/ipykernel_launcher.py:3: FutureWarning: pandas.io.json.json_normalize is deprecated, use pandas.json_normalize instead\n",
            "  This is separate from the ipykernel package so we can avoid doing imports until\n"
          ],
          "name": "stderr"
        }
      ]
    },
    {
      "cell_type": "markdown",
      "metadata": {
        "id": "eKU_x8c52APE"
      },
      "source": [
        "Merubah Format date"
      ]
    },
    {
      "cell_type": "code",
      "metadata": {
        "id": "8DzPXKKD7bOD"
      },
      "source": [
        "df_covid_worldwide['last_update'] = pd.to_datetime(df_covid_worldwide['last_update'], format='%Y-%m-%d %H:%M:%S')\n",
        "df_covid_worldwide['last_update'] = df_covid_worldwide['last_update'].apply(lambda x: x.date())"
      ],
      "execution_count": null,
      "outputs": []
    },
    {
      "cell_type": "markdown",
      "metadata": {
        "id": "hArRjKrM-AFp"
      },
      "source": [
        "Mengambil Data Countries"
      ]
    },
    {
      "cell_type": "code",
      "metadata": {
        "id": "TPYFhuce-STt",
        "colab": {
          "base_uri": "https://localhost:8080/"
        },
        "outputId": "7c04111d-e8f4-4d1c-a9cf-a8dc420a1ad9"
      },
      "source": [
        "countries_url = 'https://covid19-api.org/api/countries'\n",
        "df_countries = pd.io.json.json_normalize(get_json(countries_url))\n",
        "df_countries = df_countries.rename(columns={'alpha2': 'country'})[['name','country']]\n",
        "\n",
        "print(df_countries.head())"
      ],
      "execution_count": null,
      "outputs": [
        {
          "output_type": "stream",
          "text": [
            "          name country\n",
            "0  Afghanistan      AF\n",
            "1      Albania      AL\n",
            "2      Algeria      DZ\n",
            "3      Andorra      AD\n",
            "4       Angola      AO\n"
          ],
          "name": "stdout"
        },
        {
          "output_type": "stream",
          "text": [
            "/usr/local/lib/python3.6/dist-packages/ipykernel_launcher.py:2: FutureWarning: pandas.io.json.json_normalize is deprecated, use pandas.json_normalize instead\n",
            "  \n"
          ],
          "name": "stderr"
        }
      ]
    },
    {
      "cell_type": "markdown",
      "metadata": {
        "id": "qTLuwzPyYbEM"
      },
      "source": [
        "Merge Covid19 Data dan Countries"
      ]
    },
    {
      "cell_type": "code",
      "metadata": {
        "id": "KX8yYbGDYeV0",
        "colab": {
          "base_uri": "https://localhost:8080/"
        },
        "outputId": "46ecc74b-2818-4636-b7de-f270c4011a47"
      },
      "source": [
        "df_covid_denormalized = pd.merge(df_covid_worldwide, df_countries, on='country')\n",
        "\n",
        "print(df_covid_denormalized.head())"
      ],
      "execution_count": null,
      "outputs": [
        {
          "output_type": "stream",
          "text": [
            "  country last_update    cases  deaths  recovered                      name\n",
            "0      US  2020-08-16  5401167  170019    1833067  United States of America\n",
            "1      BR  2020-08-16  3340197  107852    2655017                    Brazil\n",
            "2      IN  2020-08-16  2589682   49980    1862258                     India\n",
            "3      RU  2020-08-16   920719   15653     731444        Russian Federation\n",
            "4      ZA  2020-08-16   587345   11839     472377              South Africa\n"
          ],
          "name": "stdout"
        }
      ]
    },
    {
      "cell_type": "markdown",
      "metadata": {
        "id": "CTVQ-gKGZ8X7"
      },
      "source": [
        "Menghitung Fatality Ratio"
      ]
    },
    {
      "cell_type": "code",
      "metadata": {
        "id": "I7YV9J65aAc9"
      },
      "source": [
        "df_covid_denormalized['fatality_ratio'] = df_covid_denormalized['deaths']/df_covid_denormalized['cases']"
      ],
      "execution_count": null,
      "outputs": []
    },
    {
      "cell_type": "markdown",
      "metadata": {
        "id": "0csGavPDc5sj"
      },
      "source": [
        "Negara-negara dengan Fatality Ratio Tertinggi"
      ]
    },
    {
      "cell_type": "code",
      "metadata": {
        "id": "oYBrsjmpdAYs"
      },
      "source": [
        "df_top_20_fatality_rate = df_covid_denormalized.sort_values(by='fatality_ratio', ascending=False).head(20)"
      ],
      "execution_count": null,
      "outputs": []
    },
    {
      "cell_type": "markdown",
      "metadata": {
        "id": "7WvY-lpod9zK"
      },
      "source": [
        "Import Library Visualisasi"
      ]
    },
    {
      "cell_type": "code",
      "metadata": {
        "id": "Zx77a-wOd99T"
      },
      "source": [
        "import matplotlib.pyplot as plt"
      ],
      "execution_count": null,
      "outputs": []
    },
    {
      "cell_type": "markdown",
      "metadata": {
        "id": "ZOqyTHFBekOV"
      },
      "source": [
        "Visualisasi Negara dengan Fatality Ratio Tertinggi"
      ]
    },
    {
      "cell_type": "code",
      "metadata": {
        "id": "cIY-Qy6NetwY",
        "colab": {
          "base_uri": "https://localhost:8080/",
          "height": 486
        },
        "outputId": "6c0e97b3-e0fd-40c0-9538-d67842f040aa"
      },
      "source": [
        "import matplotlib.pyplot as plt\n",
        "plt.figure(figsize=(20, 8))\n",
        "x = df_top_20_fatality_rate['name']\n",
        "y = df_top_20_fatality_rate['fatality_ratio']\n",
        "plt.bar(x,y)\n",
        "plt.xlabel('Country Name')\n",
        "plt.ylabel('Fatality Rate')\n",
        "plt.title('Top 20 Highest Fatality Rate Countries')\n",
        "plt.xticks(rotation=90)\n",
        "plt.tight_layout()\n",
        "plt.show()"
      ],
      "execution_count": null,
      "outputs": [
        {
          "output_type": "display_data",
          "data": {
            "image/png": "[encoded data removed]",
            "text/plain": [
              "<Figure size 1440x576 with 1 Axes>"
            ]
          },
          "metadata": {
            "tags": [],
            "needs_background": "light"
          }
        }
      ]
    },
    {
      "cell_type": "markdown",
      "metadata": {
        "id": "na8PXnVwf-zy"
      },
      "source": [
        "Menggabungkan Dataframe"
      ]
    },
    {
      "cell_type": "code",
      "metadata": {
        "id": "sP8aDGqWilqy",
        "colab": {
          "base_uri": "https://localhost:8080/"
        },
        "outputId": "8f7809be-aed6-416e-9ff4-fceac7bf9455"
      },
      "source": [
        "countries = ['ID','MY','SG','TH','VN']\n",
        "i = 0\n",
        "for country in countries:\n",
        "\tcovid_timeline_url = 'https://covid19-api.org/api/timeline/'+country\n",
        "\tdf_covid_timeline = pd.io.json.json_normalize(get_json(covid_timeline_url))\n",
        "\tdf_covid_timeline['last_update'] = pd.to_datetime(df_covid_timeline['last_update'], format='%Y-%m-%dT%H:%M:%S')\n",
        "\tdf_covid_timeline['last_update'] = df_covid_timeline['last_update'].apply(lambda x: x.date())\n",
        "\tif i==0:\n",
        "\t\tdf_covid_timeline_merged = df_covid_timeline\n",
        "\telse:\n",
        "\t\tdf_covid_timeline_merged = df_covid_timeline.append(df_covid_timeline_merged, ignore_index=True)\n",
        "\ti=i+1\n",
        "    \n",
        "print(df_covid_timeline_merged.head())"
      ],
      "execution_count": null,
      "outputs": [
        {
          "output_type": "stream",
          "text": [
            "/usr/local/lib/python3.6/dist-packages/ipykernel_launcher.py:5: FutureWarning: pandas.io.json.json_normalize is deprecated, use pandas.json_normalize instead\n",
            "  \"\"\"\n"
          ],
          "name": "stderr"
        },
        {
          "output_type": "stream",
          "text": [
            "  country last_update  cases  deaths  recovered\n",
            "0      VN  2021-02-02   1850      35       1460\n",
            "1      VN  2021-02-01   1850      35       1460\n",
            "2      VN  2021-01-31   1817      35       1457\n",
            "3      VN  2021-01-30   1767      35       1456\n",
            "4      VN  2021-01-29   1657      35       1448\n"
          ],
          "name": "stdout"
        }
      ]
    },
    {
      "cell_type": "markdown",
      "metadata": {
        "id": "U8VR0OMDje3k"
      },
      "source": [
        "Merge Data Covid19 Dengan Data Country"
      ]
    },
    {
      "cell_type": "code",
      "metadata": {
        "id": "XNVfE-E7jpQZ"
      },
      "source": [
        "df_covid_timeline_denormalized = pd.merge(df_covid_timeline_merged, df_countries , on='country')"
      ],
      "execution_count": null,
      "outputs": []
    },
    {
      "cell_type": "markdown",
      "metadata": {
        "id": "D-nPLBCijyjU"
      },
      "source": [
        "Kasus Covid-19 di ASEAN pada Bulan Maret 2020"
      ]
    },
    {
      "cell_type": "code",
      "metadata": {
        "id": "GJ497kUcj0VK"
      },
      "source": [
        "import datetime\n",
        "df_covid_timeline_denormalized = df_covid_timeline_denormalized[(df_covid_timeline_denormalized['last_update'] >= datetime.date(2020,3,1))]"
      ],
      "execution_count": null,
      "outputs": []
    },
    {
      "cell_type": "markdown",
      "metadata": {
        "id": "WLs684aakTIN"
      },
      "source": [
        "Visualisasi Kasus Covid-19 di ASEAN\n"
      ]
    },
    {
      "cell_type": "code",
      "metadata": {
        "id": "XA4eU6abkX6m",
        "colab": {
          "base_uri": "https://localhost:8080/",
          "height": 295
        },
        "outputId": "af6c3687-9b58-4f32-bbf1-2a079b547a17"
      },
      "source": [
        "import matplotlib.pyplot as plt\n",
        "plt.clf()\n",
        "countries = ['ID','MY','SG','TH','VN']\n",
        "for country in countries:\n",
        "\tcountry_data = df_covid_timeline_denormalized['country']==country\n",
        "\tx= df_covid_timeline_denormalized[country_data]['last_update']\n",
        "\ty= df_covid_timeline_denormalized[country_data]['cases']\n",
        "\tplt.plot(x,y, label =country)\n",
        "\n",
        "plt.legend()\n",
        "plt.xlabel('Record Date')\n",
        "plt.ylabel('Total Cases')\n",
        "plt.title('Asean Covid19 Cases Comparison')\n",
        "plt.show()"
      ],
      "execution_count": null,
      "outputs": [
        {
          "output_type": "display_data",
          "data": {
            "image/png": "[encoded data removed]",
            "text/plain": [
              "<Figure size 432x288 with 1 Axes>"
            ]
          },
          "metadata": {
            "tags": [],
            "needs_background": "light"
          }
        }
      ]
    }
  ]
}